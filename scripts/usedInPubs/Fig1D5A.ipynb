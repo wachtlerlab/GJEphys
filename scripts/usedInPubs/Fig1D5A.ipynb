{
 "cells": [
  {
   "cell_type": "code",
   "execution_count": 2,
   "metadata": {
    "collapsed": true
   },
   "outputs": [],
   "source": [
    "from matplotlib import pyplot as plt\n",
    "from GJEphys.matplotlibRCParams import mplPars\n",
    "from GJEphys.rawDataAnalyse import RawDataAnalyser\n",
    "from GJEphys.folderDefs import NIXPath\n",
    "import numpy as np"
   ]
  },
  {
   "cell_type": "code",
   "execution_count": 3,
   "metadata": {
    "collapsed": true
   },
   "outputs": [],
   "source": [
    "rda = RawDataAnalyser(expName=\"130501-2Rh\", dirpath=NIXPath)\n"
   ]
  },
  {
   "cell_type": "code",
   "execution_count": 5,
   "metadata": {
    "collapsed": true
   },
   "outputs": [],
   "source": [
    "\n",
    "tpyes=[\"BeforeStimulus\", \"DuringStimulus\", \"AfterStimulus\"]\n",
    "colors = [\"r\", \"g\", \"b\"]\n"
   ]
  },
  {
   "cell_type": "code",
   "execution_count": 6,
   "metadata": {
    "collapsed": true
   },
   "outputs": [],
   "source": [
    "contResps = rda.getContResps(freqs=[265])\n",
    "contSpikes = rda.getContSpikes(freqs=[265])\n",
    "resps = contResps[265][2]\n",
    "spikes = contSpikes[265][2]\n",
    "tStart = resps[\"DuringStimulus\"].t_start"
   ]
  },
  {
   "cell_type": "code",
   "execution_count": 18,
   "metadata": {
    "collapsed": true
   },
   "outputs": [],
   "source": [
    "plt.rcParams.update(mplPars)\n",
    "fig, ax = plt.subplots(figsize=(7, 4))\n",
    "for tpye, col in zip(tpyes, colors):\n",
    "    ax.plot(resps[tpye].times, resps[tpye], color=col, lw=0.35)\n",
    "    ax.plot(spikes[tpye].times, np.ones_like(spikes[tpye].times) * 11, 'k^', ms=1)\n",
    "ax.set_xlabel(\"time(s)\")\n",
    "ax.set_ylabel(\"Membrane\\nVoltage(mV)\")"
   ]
  },
  {
   "cell_type": "code",
   "execution_count": 25,
   "metadata": {
    "collapsed": true
   },
   "outputs": [],
   "source": [
    "ax.set_xlim(tStart.magnitude -1, tStart.magnitude+2)\n",
    "# fig.tight_layout()\n",
    "fig.savefig(\"/tmp/beforeDuringAfter.png\", dpi=600)\n"
   ]
  },
  {
   "cell_type": "code",
   "execution_count": 22,
   "metadata": {},
   "outputs": [
    {
     "data": {
      "text/plain": [
       "(1114.600864, 1114.7508639999999)"
      ]
     },
     "execution_count": 22,
     "metadata": {},
     "output_type": "execute_result"
    }
   ],
   "source": [
    "ax.set_xlim(tStart.magnitude -0.05, tStart.magnitude+0.1)"
   ]
  },
  {
   "cell_type": "code",
   "execution_count": 23,
   "metadata": {},
   "outputs": [],
   "source": [
    "fig.savefig(\"/tmp/onPhasic.png\", dpi=300)"
   ]
  },
  {
   "cell_type": "code",
   "execution_count": null,
   "metadata": {},
   "outputs": [],
   "source": []
  }
 ],
 "metadata": {
  "kernelspec": {
   "display_name": "Python 2",
   "language": "python",
   "name": "python2"
  },
  "language_info": {
   "codemirror_mode": {
    "name": "ipython",
    "version": 2
   },
   "file_extension": ".py",
   "mimetype": "text/x-python",
   "name": "python",
   "nbconvert_exporter": "python",
   "pygments_lexer": "ipython2",
   "version": "2.7.6"
  }
 },
 "nbformat": 4,
 "nbformat_minor": 0
}
